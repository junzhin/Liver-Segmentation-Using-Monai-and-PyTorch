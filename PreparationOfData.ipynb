{
 "cells": [
  {
   "cell_type": "code",
   "execution_count": 1,
   "metadata": {},
   "outputs": [],
   "source": [
    "base_in_path = \"F:/research_datasets/Task01_BrainTumour/Task01_BrainTumour/dicom_files\"\n",
    "base_out_path = \"F:/research_datasets/Task01_BrainTumour/Task01_BrainTumour/dicom_groups\""
   ]
  },
  {
   "cell_type": "code",
   "execution_count": 2,
   "metadata": {},
   "outputs": [],
   "source": [
    "from glob import glob\n",
    "import shutil\n",
    "import os\n",
    "import nibabel as nib\n",
    "import numpy as np"
   ]
  },
  {
   "cell_type": "code",
   "execution_count": 3,
   "metadata": {},
   "outputs": [
    {
     "name": "stdout",
     "output_type": "stream",
     "text": [
      "['F:/research_datasets/Task01_BrainTumour/Task01_BrainTumour/dicom_files\\\\images', 'F:/research_datasets/Task01_BrainTumour/Task01_BrainTumour/dicom_files\\\\labels']\n"
     ]
    }
   ],
   "source": [
    "set_of_key = [\"labels\", \"images\"]\n",
    "patient_list = glob(base_in_path + \"/*\")\n",
    "print(patient_list)"
   ]
  },
  {
   "cell_type": "code",
   "execution_count": 7,
   "metadata": {},
   "outputs": [
    {
     "name": "stdout",
     "output_type": "stream",
     "text": [
      "in_path:  F:/research_datasets/Task01_BrainTumour/Task01_BrainTumour/dicom_files\\labels\n",
      "out_path:  F:/research_datasets/Task01_BrainTumour/Task01_BrainTumour/dicom_groups\\labels\n",
      "patient:  F:/research_datasets/Task01_BrainTumour/Task01_BrainTumour/dicom_files\\labels\\BRATS_483\n",
      "BRATS_483 2\n",
      "--------------------\n",
      "output_path_name:  F:/research_datasets/Task01_BrainTumour/Task01_BrainTumour/dicom_groups\\labels\\BRATS_483_0\n",
      "output_path_name:  F:/research_datasets/Task01_BrainTumour/Task01_BrainTumour/dicom_groups\\labels\\BRATS_483_1\n",
      "patient:  F:/research_datasets/Task01_BrainTumour/Task01_BrainTumour/dicom_files\\labels\\BRATS_484\n",
      "BRATS_484 2\n",
      "--------------------\n",
      "output_path_name:  F:/research_datasets/Task01_BrainTumour/Task01_BrainTumour/dicom_groups\\labels\\BRATS_484_0\n",
      "output_path_name:  F:/research_datasets/Task01_BrainTumour/Task01_BrainTumour/dicom_groups\\labels\\BRATS_484_1\n",
      "in_path:  F:/research_datasets/Task01_BrainTumour/Task01_BrainTumour/dicom_files\\images\n",
      "out_path:  F:/research_datasets/Task01_BrainTumour/Task01_BrainTumour/dicom_groups\\images\n",
      "patient:  F:/research_datasets/Task01_BrainTumour/Task01_BrainTumour/dicom_files\\images\\BRATS_483\n",
      "BRATS_483 2\n",
      "--------------------\n",
      "output_path_name:  F:/research_datasets/Task01_BrainTumour/Task01_BrainTumour/dicom_groups\\images\\BRATS_483_0\n",
      "output_path_name:  F:/research_datasets/Task01_BrainTumour/Task01_BrainTumour/dicom_groups\\images\\BRATS_483_1\n",
      "patient:  F:/research_datasets/Task01_BrainTumour/Task01_BrainTumour/dicom_files\\images\\BRATS_484\n",
      "BRATS_484 2\n",
      "--------------------\n",
      "output_path_name:  F:/research_datasets/Task01_BrainTumour/Task01_BrainTumour/dicom_groups\\images\\BRATS_484_0\n",
      "output_path_name:  F:/research_datasets/Task01_BrainTumour/Task01_BrainTumour/dicom_groups\\images\\BRATS_484_1\n"
     ]
    }
   ],
   "source": [
    "\n",
    "for key in set_of_key:\n",
    "    in_path = os.path.join(base_in_path, key)\n",
    "    print('in_path: ', in_path)\n",
    "    out_path = os.path.join(base_out_path, key)\n",
    "    print('out_path: ', out_path)\n",
    "    for patient in glob(in_path + \"/*\"):\n",
    "        print('patient: ', patient)\n",
    "        \n",
    "        patient_name = os.path.basename(os.path.normpath(patient))\n",
    "        number_folders = int(len(glob(patient + \"/*\"))/64)\n",
    "        print(patient_name, number_folders)\n",
    "        print(\"--------------------\")\n",
    "        for i in range(number_folders):\n",
    "            output_path_name = os.path.join(\n",
    "                out_path, patient_name + \"_\" + str(i))\n",
    "            print('output_path_name: ', output_path_name)\n",
    "            if not os.path.exists(output_path_name):\n",
    "                os.mkdir(output_path_name)\n",
    "            for index, file in enumerate(glob(patient + \"/*\")):\n",
    "                if index // 64 == i:\n",
    "                    shutil.copy(file, output_path_name)\n",
    "            \n",
    "                    "
   ]
  },
  {
   "attachments": {},
   "cell_type": "markdown",
   "metadata": {},
   "source": []
  },
  {
   "attachments": {},
   "cell_type": "markdown",
   "metadata": {},
   "source": [
    "## Convert the dicom files into nifities"
   ]
  },
  {
   "cell_type": "code",
   "execution_count": 8,
   "metadata": {},
   "outputs": [],
   "source": [
    "import dicom2nifti\n",
    "base_in_path = \"F:/research_datasets/Task01_BrainTumour/Task01_BrainTumour/dicom_groups\"\n",
    "base_out_path = \"F:/research_datasets/Task01_BrainTumour/Task01_BrainTumour/nifti_files\""
   ]
  },
  {
   "cell_type": "code",
   "execution_count": 9,
   "metadata": {},
   "outputs": [
    {
     "name": "stdout",
     "output_type": "stream",
     "text": [
      "in_path:  F:/research_datasets/Task01_BrainTumour/Task01_BrainTumour/dicom_groups\\labels\n",
      "out_path:  F:/research_datasets/Task01_BrainTumour/Task01_BrainTumour/nifti_files\\labels\n",
      "['F:/research_datasets/Task01_BrainTumour/Task01_BrainTumour/dicom_groups\\\\labels\\\\BRATS_483_0', 'F:/research_datasets/Task01_BrainTumour/Task01_BrainTumour/dicom_groups\\\\labels\\\\BRATS_483_1', 'F:/research_datasets/Task01_BrainTumour/Task01_BrainTumour/dicom_groups\\\\labels\\\\BRATS_484_0', 'F:/research_datasets/Task01_BrainTumour/Task01_BrainTumour/dicom_groups\\\\labels\\\\BRATS_484_1']\n",
      "[]\n",
      "F:/research_datasets/Task01_BrainTumour/Task01_BrainTumour/nifti_files\\labels\\BRATS_484labels.nii\n",
      "in_path:  F:/research_datasets/Task01_BrainTumour/Task01_BrainTumour/dicom_groups\\images\n",
      "out_path:  F:/research_datasets/Task01_BrainTumour/Task01_BrainTumour/nifti_files\\images\n",
      "['F:/research_datasets/Task01_BrainTumour/Task01_BrainTumour/dicom_groups\\\\images\\\\BRATS_483_0', 'F:/research_datasets/Task01_BrainTumour/Task01_BrainTumour/dicom_groups\\\\images\\\\BRATS_483_1', 'F:/research_datasets/Task01_BrainTumour/Task01_BrainTumour/dicom_groups\\\\images\\\\BRATS_484_0', 'F:/research_datasets/Task01_BrainTumour/Task01_BrainTumour/dicom_groups\\\\images\\\\BRATS_484_1']\n",
      "[]\n",
      "F:/research_datasets/Task01_BrainTumour/Task01_BrainTumour/nifti_files\\images\\BRATS_484_1images.nii\n"
     ]
    }
   ],
   "source": [
    "for key in set_of_key:\n",
    "    in_path = os.path.join(base_in_path, key)\n",
    "    print('in_path: ', in_path)\n",
    "    out_path = os.path.join(base_out_path, key)\n",
    "    print('out_path: ', out_path)\n",
    "\n",
    "    list_images  = glob(in_path+ \"/*\")\n",
    "    list_labels = glob(out_path+ \"/*\")\n",
    "    print(list_images)\n",
    "    print(list_labels)\n",
    "    print(os.path.join(out_path, patient_name + key  + \".nii\"))\n",
    "    for patient in list_images:\n",
    "        patient_name = os.path.basename(os.path.normpath(patient))\n",
    "        dicom2nifti.dicom_series_to_nifti(patient, os.path.join(out_path, patient_name + key  + \".nii.gz\"))\n",
    "    \n"
   ]
  },
  {
   "attachments": {},
   "cell_type": "markdown",
   "metadata": {},
   "source": [
    "# Find Empty"
   ]
  },
  {
   "cell_type": "code",
   "execution_count": null,
   "metadata": {},
   "outputs": [],
   "source": [
    "load_nifti_file_path = \"F:\\\\research_datasets\\\\Task01_BrainTumour\\\\Task01_BrainTumour\\\\nifti_files\\\\labels\\\\BRATS_484_0labels.nii.gz\"\n",
    "nifti_file = nib.load(load_nifti_file_path)\n",
    "fdata = nifti_file.get_fdata()"
   ]
  },
  {
   "cell_type": "code",
   "execution_count": null,
   "metadata": {},
   "outputs": [],
   "source": [
    "np_unique = np.unique(fdata)\n",
    "print(np_unique)\n",
    "len(np_unique)\n",
    "print('len(np_unique): ', len(np_unique))"
   ]
  },
  {
   "cell_type": "code",
   "execution_count": null,
   "metadata": {},
   "outputs": [],
   "source": [
    "load_nifti_file_path = \"F:\\\\research_datasets\\\\Task01_BrainTumour\\\\Task01_BrainTumour\\\\nifti_files\\\\labels\\\\*\"\n",
    "list_of_labeles= glob(load_nifti_file_path)\n",
    "print(list_of_labeles)\n",
    "for label in list_of_labeles:\n",
    "    nifti_file = nib.load(label)\n",
    "    fdata = nifti_file.get_fdata()\n",
    "    np_unique = np.unique(fdata)\n",
    "    # print(np_unique)\n",
    "    if len(np_unique) == 1:\n",
    "        print(\"The current label has only one class\")\n",
    "        print(label)\n",
    "    else:\n",
    "        print(\"The current label has more than one class\")\n",
    "        print(label)"
   ]
  },
  {
   "cell_type": "code",
   "execution_count": null,
   "metadata": {},
   "outputs": [],
   "source": []
  },
  {
   "attachments": {},
   "cell_type": "markdown",
   "metadata": {},
   "source": []
  }
 ],
 "metadata": {
  "kernelspec": {
   "display_name": "base",
   "language": "python",
   "name": "python3"
  },
  "language_info": {
   "codemirror_mode": {
    "name": "ipython",
    "version": 3
   },
   "file_extension": ".py",
   "mimetype": "text/x-python",
   "name": "python",
   "nbconvert_exporter": "python",
   "pygments_lexer": "ipython3",
   "version": "3.9.13"
  },
  "orig_nbformat": 4
 },
 "nbformat": 4,
 "nbformat_minor": 2
}
